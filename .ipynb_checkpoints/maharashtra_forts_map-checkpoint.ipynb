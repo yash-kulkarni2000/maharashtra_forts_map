{
 "cells": [
  {
   "cell_type": "code",
   "execution_count": 1,
   "metadata": {},
   "outputs": [
    {
     "name": "stderr",
     "output_type": "stream",
     "text": [
      "C:\\Users\\ykulk\\anaconda3\\lib\\site-packages\\pandas\\core\\computation\\expressions.py:20: UserWarning: Pandas requires version '2.7.3' or newer of 'numexpr' (version '2.7.1' currently installed).\n",
      "  from pandas.core.computation.check import NUMEXPR_INSTALLED\n"
     ]
    }
   ],
   "source": [
    "import pandas as pd"
   ]
  },
  {
   "cell_type": "code",
   "execution_count": 2,
   "metadata": {},
   "outputs": [
    {
     "data": {
      "text/html": [
       "<div>\n",
       "<style scoped>\n",
       "    .dataframe tbody tr th:only-of-type {\n",
       "        vertical-align: middle;\n",
       "    }\n",
       "\n",
       "    .dataframe tbody tr th {\n",
       "        vertical-align: top;\n",
       "    }\n",
       "\n",
       "    .dataframe thead th {\n",
       "        text-align: right;\n",
       "    }\n",
       "</style>\n",
       "<table border=\"1\" class=\"dataframe\">\n",
       "  <thead>\n",
       "    <tr style=\"text-align: right;\">\n",
       "      <th></th>\n",
       "      <th>name</th>\n",
       "      <th>latitude</th>\n",
       "      <th>longitude</th>\n",
       "    </tr>\n",
       "  </thead>\n",
       "  <tbody>\n",
       "    <tr>\n",
       "      <th>0</th>\n",
       "      <td>Achala Fort</td>\n",
       "      <td>20.431800</td>\n",
       "      <td>73.814300</td>\n",
       "    </tr>\n",
       "    <tr>\n",
       "      <th>1</th>\n",
       "      <td>Ahmednagar Fort</td>\n",
       "      <td>19.096600</td>\n",
       "      <td>74.753300</td>\n",
       "    </tr>\n",
       "    <tr>\n",
       "      <th>2</th>\n",
       "      <td>Ahivant Fort</td>\n",
       "      <td>20.415444</td>\n",
       "      <td>73.860000</td>\n",
       "    </tr>\n",
       "    <tr>\n",
       "      <th>3</th>\n",
       "      <td>Ajinkyatara</td>\n",
       "      <td>17.669497</td>\n",
       "      <td>73.990664</td>\n",
       "    </tr>\n",
       "    <tr>\n",
       "      <th>4</th>\n",
       "      <td>Akola Fort</td>\n",
       "      <td>20.706111</td>\n",
       "      <td>76.990000</td>\n",
       "    </tr>\n",
       "  </tbody>\n",
       "</table>\n",
       "</div>"
      ],
      "text/plain": [
       "              name   latitude  longitude\n",
       "0      Achala Fort  20.431800  73.814300\n",
       "1  Ahmednagar Fort  19.096600  74.753300\n",
       "2     Ahivant Fort  20.415444  73.860000\n",
       "3      Ajinkyatara  17.669497  73.990664\n",
       "4       Akola Fort  20.706111  76.990000"
      ]
     },
     "execution_count": 2,
     "metadata": {},
     "output_type": "execute_result"
    }
   ],
   "source": [
    "forts = pd.read_csv(\"forts.csv\", encoding= 'unicode_escape')\n",
    "forts.head()"
   ]
  },
  {
   "cell_type": "code",
   "execution_count": 3,
   "metadata": {},
   "outputs": [],
   "source": [
    "# import folium package\n",
    "import folium\n",
    "from folium.features import DivIcon\n",
    "# Map method of folium return Map object\n",
    " \n",
    "# Here we pass coordinates of Gfg\n",
    "# and starting Zoom level = 12\n",
    "my_map = folium.Map(location = [19.7515, 75.7139],\n",
    "                                        zoom_start = 7)\n",
    "\n",
    "# add marker one by one on the map\n",
    "for i in range(0,len(forts)):\n",
    "   folium.Marker(location=[forts.iloc[i]['latitude'], forts.iloc[i]['longitude']],\n",
    "                 popup=forts.iloc[i]['name'],\n",
    "                icon=folium.DivIcon(html=f\"\"\"<div style=\"font-family: courier new; color: red\";font-size:10px> 🚩{forts.iloc[i]['name']}</div>\"\"\")).add_to(my_map)\n",
    " \n",
    "# save method of Map object will create a map\n",
    "my_map.save(\"index.html\")"
   ]
  },
  {
   "cell_type": "markdown",
   "metadata": {},
   "source": [
    "Completed: 20 July 2023"
   ]
  }
 ],
 "metadata": {
  "kernelspec": {
   "display_name": "Python 3",
   "language": "python",
   "name": "python3"
  },
  "language_info": {
   "codemirror_mode": {
    "name": "ipython",
    "version": 3
   },
   "file_extension": ".py",
   "mimetype": "text/x-python",
   "name": "python",
   "nbconvert_exporter": "python",
   "pygments_lexer": "ipython3",
   "version": "3.8.3"
  }
 },
 "nbformat": 4,
 "nbformat_minor": 4
}
